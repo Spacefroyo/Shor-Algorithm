{
 "cells": [
  {
   "attachments": {},
   "cell_type": "markdown",
   "metadata": {},
   "source": [
    "**Introduction**\n",
    "\n",
    "In this notebook, I aim to demonstrate how RSA encryption can be broken through Shor's algorithm. I will first include a successful transfer of encrypted data using the RSA protocol. Next, I will simulate an eavesdropper who intercepts the encrypted message and uses a classical algorithm to decrypt it. Finally, I will simulate another eavesdropper who instead uses the quantum Shor's algorithm to decrypt the message. Through this process, I will show that Shor's algorithm offers a time complexity speed up to the alternative classical algorithm for cracking RSA encryption."
   ]
  },
  {
   "attachments": {},
   "cell_type": "markdown",
   "metadata": {},
   "source": [
    "**Imports**"
   ]
  },
  {
   "cell_type": "code",
   "execution_count": 1,
   "metadata": {},
   "outputs": [],
   "source": [
    "# %pip install qiskit\n",
    "# %pip install qiskit_ibm_provider"
   ]
  },
  {
   "cell_type": "code",
   "execution_count": 2,
   "metadata": {},
   "outputs": [],
   "source": [
    "import qiskit\n",
    "from qiskit import QuantumCircuit, Aer, IBMQ\n",
    "from qiskit.algorithms import Shor\n",
    "from qiskit.utils import QuantumInstance\n",
    "from qiskit_ibm_provider import IBMProvider\n",
    "import random\n",
    "import math"
   ]
  },
  {
   "attachments": {},
   "cell_type": "markdown",
   "metadata": {},
   "source": [
    "**RSA**"
   ]
  },
  {
   "attachments": {},
   "cell_type": "markdown",
   "metadata": {},
   "source": [
    "Initialization"
   ]
  },
  {
   "cell_type": "code",
   "execution_count": 3,
   "metadata": {},
   "outputs": [
    {
     "name": "stdout",
     "output_type": "stream",
     "text": [
      "15 5 3\n"
     ]
    }
   ],
   "source": [
    "# primes\n",
    "prime_max = 6\n",
    "primes = []\n",
    "for i in range(2, prime_max):\n",
    "    is_prime = True\n",
    "    for j in primes:\n",
    "        if j > math.sqrt(i):\n",
    "            break\n",
    "        if i%j == 0:\n",
    "            is_prime = False\n",
    "            break\n",
    "    if is_prime:\n",
    "        primes.append(i)\n",
    "\n",
    "# private\n",
    "p, q = random.sample(primes[1:], 2)\n",
    "l = ((p - 1) * (q - 1)) // math.gcd(p - 1, q - 1)\n",
    "\n",
    "# public\n",
    "n = p * q\n",
    "e = random.randint(3, l - 1)\n",
    "while math.gcd(e, l) != 1:\n",
    "    e = random.randint(3, l - 1)\n",
    "\n",
    "# private\n",
    "d = pow(e, -1, l)\n",
    "\n",
    "print(n, p, q)"
   ]
  },
  {
   "attachments": {},
   "cell_type": "markdown",
   "metadata": {},
   "source": [
    "**Encryption (Alice)**\n",
    "\n",
    "Alice, the sender of the message, will first encrypt her message using RSA"
   ]
  },
  {
   "cell_type": "code",
   "execution_count": 4,
   "metadata": {},
   "outputs": [],
   "source": [
    "def hash(s: str, base: int, start: str) -> int:\n",
    "    ret = 0\n",
    "    for x in s:\n",
    "        ret = base*ret + ord(x)-ord(start)\n",
    "    return ret\n",
    "\n",
    "def unhash(code: int, base: int, start: str) -> str:\n",
    "    ret = \"\"\n",
    "    while code > 0:\n",
    "        ret = chr(code%base+ord(start)) + ret\n",
    "        code //= base\n",
    "    return ret"
   ]
  },
  {
   "cell_type": "code",
   "execution_count": 5,
   "metadata": {},
   "outputs": [
    {
     "name": "stdout",
     "output_type": "stream",
     "text": [
      "5\n"
     ]
    }
   ],
   "source": [
    "BASE = 3\n",
    "START = 'G'\n",
    "\n",
    "plaintext = \"HI\"\n",
    "plaincode = hash(plaintext, BASE, START)\n",
    "if plaincode >= n:\n",
    "    print(\"Message too large\")\n",
    "    exit(0)\n",
    "print(plaincode)\n",
    "\n",
    "ciphercode = pow(plaincode, e, n)"
   ]
  },
  {
   "attachments": {},
   "cell_type": "markdown",
   "metadata": {},
   "source": [
    "**Decryption (Bob)**\n",
    "\n",
    "Bob, the intended recipient of the message, will now decrypt the message"
   ]
  },
  {
   "cell_type": "code",
   "execution_count": 6,
   "metadata": {},
   "outputs": [
    {
     "name": "stdout",
     "output_type": "stream",
     "text": [
      "5\n",
      "HI\n"
     ]
    }
   ],
   "source": [
    "plaincode = pow(ciphercode, d, n)\n",
    "print(plaincode)\n",
    "plaintext = unhash(plaincode, BASE, START)\n",
    "\n",
    "print(plaintext)"
   ]
  },
  {
   "attachments": {},
   "cell_type": "markdown",
   "metadata": {},
   "source": [
    "**Hacking**"
   ]
  },
  {
   "attachments": {},
   "cell_type": "markdown",
   "metadata": {},
   "source": [
    "**Brute force O(sqrt(n))**\n",
    "\n",
    "The following algorithm has a time complexity of O(sqrt(n)), and it will be used by the classical eavesdropper when hacking the previous encrypted message transfer"
   ]
  },
  {
   "cell_type": "code",
   "execution_count": 7,
   "metadata": {},
   "outputs": [],
   "source": [
    "\n",
    "for i in range(2, 1+int(math.sqrt(n))):\n",
    "    if n % i == 0:\n",
    "        hp, hq = i, n//i\n",
    "hl = ((hp - 1) * (hq - 1)) // math.gcd(hp - 1, hq - 1)\n",
    "hd = pow(e, -1, hl)"
   ]
  },
  {
   "cell_type": "code",
   "execution_count": 8,
   "metadata": {},
   "outputs": [
    {
     "name": "stdout",
     "output_type": "stream",
     "text": [
      "5\n",
      "HI\n"
     ]
    }
   ],
   "source": [
    "plaincode = pow(ciphercode, hd, n)\n",
    "print(plaincode)\n",
    "plaintext = unhash(plaincode, BASE, START)\n",
    "\n",
    "print(plaintext)"
   ]
  },
  {
   "attachments": {},
   "cell_type": "markdown",
   "metadata": {},
   "source": [
    "**Shor's algorithm O(log(n))**\n",
    "\n",
    "Shor's algorithm will have a time complexity of O(log(n)), hacking the previous encrypted message transfer with a lower time complexity than the classical eavesdropper"
   ]
  },
  {
   "cell_type": "code",
   "execution_count": 9,
   "metadata": {},
   "outputs": [
    {
     "name": "stderr",
     "output_type": "stream",
     "text": [
      "/var/folders/zk/684rggrn76sf_fhg61wgw21r0000gn/T/ipykernel_74950/4208701671.py:1: DeprecationWarning: The package qiskit.providers.ibmq is being deprecated. Please see https://ibm.biz/provider_migration_guide to get instructions on how to migrate to qiskit-ibm-provider (https://github.com/Qiskit/qiskit-ibm-provider) and qiskit-ibm-runtime (https://github.com/Qiskit/qiskit-ibm-runtime).\n",
      "  IBMQ.enable_account('6296569d087a150d4428571fb6266291a33c4dd0e76b421a526b60550facbe7eac5aa8310d23a51d18163a8f61290ab0401ac57a0e1d4f512c08a82f10a7d7c6')\n",
      "/var/folders/zk/684rggrn76sf_fhg61wgw21r0000gn/T/ipykernel_74950/4208701671.py:1: DeprecationWarning: The qiskit.IBMQ entrypoint and the qiskit-ibmq-provider package (accessible from 'qiskit.providers.ibmq`) are deprecated and will be removed in a future release. Instead you should use the qiskit-ibm-provider package which is accessible from 'qiskit_ibm_provider'. You can install it with 'pip install qiskit_ibm_provider'. Just replace 'qiskit.IBMQ' with 'qiskit_ibm_provider.IBMProvider'\n",
      "  IBMQ.enable_account('6296569d087a150d4428571fb6266291a33c4dd0e76b421a526b60550facbe7eac5aa8310d23a51d18163a8f61290ab0401ac57a0e1d4f512c08a82f10a7d7c6')\n",
      "/var/folders/zk/684rggrn76sf_fhg61wgw21r0000gn/T/ipykernel_74950/4208701671.py:5: DeprecationWarning: The Shor class is deprecated as of Qiskit Terra 0.22.0 and will be removed\n",
      "        no sooner than 3 months after the release date.\n",
      "        It is replaced by the tutorial at https://qiskit.org/textbook/ch-algorithms/shor.html\n",
      "        \n",
      "  factorizer = Shor(instance)\n"
     ]
    },
    {
     "name": "stdout",
     "output_type": "stream",
     "text": [
      "[3, 5]\n"
     ]
    }
   ],
   "source": [
    "IBMQ.enable_account('6296569d087a150d4428571fb6266291a33c4dd0e76b421a526b60550facbe7eac5aa8310d23a51d18163a8f61290ab0401ac57a0e1d4f512c08a82f10a7d7c6')\n",
    "provider = IBMQ.get_provider(hub='ibm-q')\n",
    "backend = provider.get_backend('ibmq_qasm_simulator')\n",
    "instance = QuantumInstance(backend, shots=100)\n",
    "factorizer = Shor(instance)\n",
    "factors = factorizer.factor(N=n, a = 2).factors[0]\n",
    "print(factors)"
   ]
  },
  {
   "cell_type": "code",
   "execution_count": 10,
   "metadata": {},
   "outputs": [],
   "source": [
    "hp, hq = factors[0], factors[1]\n",
    "hl = ((hp - 1) * (hq - 1)) // math.gcd(hp - 1, hq - 1)\n",
    "hd = pow(e, -1, hl)"
   ]
  },
  {
   "cell_type": "code",
   "execution_count": 11,
   "metadata": {},
   "outputs": [
    {
     "name": "stdout",
     "output_type": "stream",
     "text": [
      "5\n",
      "HI\n"
     ]
    }
   ],
   "source": [
    "plaincode = pow(ciphercode, hd, n)\n",
    "print(plaincode)\n",
    "plaintext = unhash(plaincode, BASE, START)\n",
    "\n",
    "print(plaintext)"
   ]
  },
  {
   "attachments": {},
   "cell_type": "markdown",
   "metadata": {},
   "source": [
    "**Conclusion**\n",
    "\n",
    "As demonstrated above, the classical eavesdropper will have a greater time complexity than the quantum eavesdropper (who uses Shor's algorithm). This means that numbers which were previously too big to be realistically factored by classical algorithms will not hold up against Shor's algorithm. This not only demonstrates the power of quantum algorithms like Shor's algorithm, but also the risk that they pose to current cybersecurity systems. Even though current quantum computers are not powerful enough to use Shor's algorithm on meaningfully large inputs, this will definitely change in the coming years. Therefore, efforts to update encryption to be quantum proof are not only necessary but urgent."
   ]
  },
  {
   "attachments": {},
   "cell_type": "markdown",
   "metadata": {},
   "source": [
    "**Reflection Questions**\n",
    "\n",
    "1. If I had more time, I would have liked to try my hand at implementing the actual Shor's algorithm quantum circuit, rather than just using Qiskit's built in Shor factorizer\n",
    "2. A challenge that I faced was trying to correctly implement the RSA protocol based on the wikipedia page. If I were to do this again, I might have looked at a YouTube tutorial instead\n",
    "3. The course concepts that I connected to this was correctly using Shor's algorithm by using it to factor a number into its prime factors\n",
    "4. This project relates to my own interests, because I've always been interested in cybersecurity and the algorithm that might one day turn the field on its head\n",
    "5. This project definitely relates the societal impact of AI on the future, as it demonstrates that the quantum algorithm threatening RSA encryption can already be implemented and used (although not powerful enough currently to break standard encryption)\n",
    "6. The thing that I enjoyed most about this project was being able to actually use an algorithm we learned from class to do something that feels meaningful (breaking RSA)"
   ]
  },
  {
   "attachments": {},
   "cell_type": "markdown",
   "metadata": {},
   "source": [
    "**Works Cited**\n",
    "\n",
    "“How Quantum Computer Break the Internet... Starting Now.” Performance by Derek Muller, YouTube, YouTube, 20 Mar. 2023, https://www.youtube.com/watch?v=-UrdExQW0cs. Accessed 7 Apr. 2023. \n",
    "\n",
    "\n",
    "Team, The Qiskit. “Shor's Algorithm.” Qiskit.org, Data 100 at UC Berkeley, 6 Apr. 2023, https://qiskit.org/textbook/ch-algorithms/shor.html. "
   ]
  }
 ],
 "metadata": {
  "kernelspec": {
   "display_name": "Python 3",
   "language": "python",
   "name": "python3"
  },
  "language_info": {
   "codemirror_mode": {
    "name": "ipython",
    "version": 3
   },
   "file_extension": ".py",
   "mimetype": "text/x-python",
   "name": "python",
   "nbconvert_exporter": "python",
   "pygments_lexer": "ipython3",
   "version": "3.10.7"
  },
  "orig_nbformat": 4
 },
 "nbformat": 4,
 "nbformat_minor": 2
}
